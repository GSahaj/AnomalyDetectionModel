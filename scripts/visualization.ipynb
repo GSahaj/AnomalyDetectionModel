{
 "cells": [
  {
   "cell_type": "code",
   "execution_count": 1,
   "id": "3e140d7d-dd1e-49b3-86af-459d96292f58",
   "metadata": {},
   "outputs": [],
   "source": [
    "import librosa\n",
    "import librosa.display\n",
    "import matplotlib.pyplot as plt\n",
    "import seaborn as sn \n",
    "import numpy as np"
   ]
  },
  {
   "cell_type": "code",
   "execution_count": null,
   "id": "3f46984e-0101-4449-861f-e9c346a6ca4c",
   "metadata": {},
   "outputs": [],
   "source": [
    "#Make the visualization, spectrogram and graphs look nice\n",
    "sns.set_theme(style=\"white\", palette=None)\n",
    "color_pal = plt.rcParams[\"axes.prop_cycle\"].by_key()[\"color\"]\n",
    "color_cycle = cycle(plt.rcParams[\"axes.prop_cycle\"].by_key()[\"color\"]"
   ]
  },
  {
   "cell_type": "code",
   "execution_count": 5,
   "id": "e0679c46-8335-42c2-b742-1826bbb31092",
   "metadata": {},
   "outputs": [],
   "source": [
    "def plot_waveform(audio, sr=16000):\n",
    "    #Visualize the waveform of the audio signal\n",
    "    plt.figure(figsize=(10, 4))\n",
    "    librosa.display.waveshow(audio, sr=sr)\n",
    "    plt.title(\"Waveform of Audio\")\n",
    "    plt.xlabel(\"Time (seconds)\")\n",
    "    plt.ylabel(\"Amplitude\")\n",
    "    plt.show()\n",
    "\n",
    "def plot_spectrogram(audio, sr=16000):\n",
    "    #Visualize the spectogram of the audio signal \n",
    "    d = librosa.amplitude_to_db(librosa.stft(audio), ref=np.max)\n",
    "    plt.figure(figsize(10, 6))\n",
    "    librosa.display.specshow(d, x_axis='time', y_axis='log', sr=sr)\n",
    "    plt.colorbar(format=\"%+0.2f dB\")\n",
    "    plt.title(\"Spectrogram of Audio\")\n",
    "    plt.show()\n",
    "\n",
    "def plot_mfcc(audio, sr=16000, n_mfcc=13):\n",
    "    #Visualize the MFCCs (Mel-Frequency Ceptral Coefficents) of the audio signal\n",
    "\n",
    "    #Extract MFCCs\n",
    "    mfccs = librosa.features.mfcc(y=audio, sr=sr, n_mfcc=n_mfcc)\n",
    "\n",
    "    #Plot MFCCs\n",
    "    plt.figure(figsize=(10, 6))\n",
    "    librosa.display.specshow(mfccs, x_axis='time', sr=sr)\n",
    "    plt.colorbar(format=\"%+0.2f dB\")\n",
    "    plt.title(\"MFCCs of Audio\")\n",
    "    plt.xlabel(\"Time (seconds)\")\n",
    "    plt.ylabel(\"MFCC Coefficients\")\n",
    "    plt.show()\n",
    "\n",
    "def plot_mel_spectrogram(audio, sr=16000):\n",
    "    #Visualize the Mel Spectrogram of the audio signal\n",
    "    s = librosa.feature.melspectrogram(y=audio, sr=sr, n_mels=128)\n",
    "    s_dB = librosa.power_to_dB(s, ref=np.max)\n",
    "\n",
    "    #Plot Mel Spectrogram\n",
    "    plt.figure(figsize=(10, 6))\n",
    "    librosa.display.specshow(s_dB, x_axis='time', y_axis='log;, sr=sr)\n",
    "    plt.colorbar(format=\"%+2.0f dB\")\n",
    "    plt.title(\"Mel Spectrogram of Audio\")\n",
    "    plt.xlabel(\"Time (seconds)\")\n",
    "    plt.ylabel(\"Frequency (Hz)\")\n",
    "    plt.show()\n",
    "\n",
    "    "
   ]
  },
  {
   "cell_type": "code",
   "execution_count": null,
   "id": "859e5843-f5c0-4aaf-8f24-bb6a6f100fde",
   "metadata": {},
   "outputs": [],
   "source": []
  }
 ],
 "metadata": {
  "kernelspec": {
   "display_name": "Python 3 (ipykernel)",
   "language": "python",
   "name": "python3"
  },
  "language_info": {
   "codemirror_mode": {
    "name": "ipython",
    "version": 3
   },
   "file_extension": ".py",
   "mimetype": "text/x-python",
   "name": "python",
   "nbconvert_exporter": "python",
   "pygments_lexer": "ipython3",
   "version": "3.12.3"
  }
 },
 "nbformat": 4,
 "nbformat_minor": 5
}
