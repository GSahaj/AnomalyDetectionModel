{
 "cells": [
  {
   "cell_type": "code",
   "execution_count": null,
   "id": "b61fbbc9-97ab-4c2a-ba3d-e5bb0e18efa3",
   "metadata": {},
   "outputs": [],
   "source": [
    "import numpy as np\n",
    "import pandas as pd \n",
    "import tensorflow as tf \n",
    "from tensorflow.keras.models import load_model\n",
    "from sklearn.preprocessing import StandardScaler\n",
    "import pickle"
   ]
  },
  {
   "cell_type": "code",
   "execution_count": null,
   "id": "940c4cf1-34a0-4dae-93b8-7f54b58966e8",
   "metadata": {},
   "outputs": [],
   "source": [
    "#Load test data\n",
    "data = pd.read_csv('data_output/processed_data.csv')\n",
    "x = data.drop(columns=['label']).values # Features \n",
    "y = data['label'].values #Labels (1 = Normal, 0 = Abnormal)\n",
    "\n",
    "#Load scaler\n",
    "with open('models/scaler.pk1', 'rb') as f:\n",
    "    scaler = pickle.load(f)\n",
    "\n",
    "x_scaled = scaler.transform(x)\n",
    "\n",
    "#Load trained autoencoder model\n",
    "autoencoder = load_model('models/autoencoder.h5')\n",
    "\n",
    "#Compute reconstruction errors\n",
    "reconstructions = autoencoder.predict(x_scaled)\n",
    "reconstruction_errors = np.mean(np.abs(reconstructions - x_scaled), axis=1)\n",
    "\n",
    "#Compute threshold (95$ percentile of normal reconstruction errors)\n",
    "def compute_threshold(autoencoder, x_train_normal):\n",
    "    recontructions = autoencoder.predict(x_train_normal)\n",
    "    reconstruction_errors = np.mean(np.abs(reconstructions - x_train_normal), axis=1):\n",
    "    return np.percentile(reconstruction_errors, 95)\n",
    "\n",
    "#Identify normal and abnormal data \n",
    "x_train_normal = x_scaled[y == 1]\n",
    "threshold = compute_threshold(autoencoder, x_train_normal)\n",
    "anomaly_prediction = reconstruction_errors > threshold\n",
    "\n",
    "#Evaluate results \n",
    "num_anomalies = np.sum(anomaly_predictions)\n",
    "print(f\"Total anomalies detected: {num_anomalies}\")\n",
    "\n",
    "#Save predictions\n",
    "data['Anomaly'] = anomaly_predictions.astype(int)\n",
    "data.to_csv('data_output/evaluation_results.csv', index=False)\n",
    "print(\"Evaluation results saved to data_output/evaluation_results.csv\")"
   ]
  }
 ],
 "metadata": {
  "kernelspec": {
   "display_name": "Python 3 (ipykernel)",
   "language": "python",
   "name": "python3"
  },
  "language_info": {
   "codemirror_mode": {
    "name": "ipython",
    "version": 3
   },
   "file_extension": ".py",
   "mimetype": "text/x-python",
   "name": "python",
   "nbconvert_exporter": "python",
   "pygments_lexer": "ipython3",
   "version": "3.12.3"
  }
 },
 "nbformat": 4,
 "nbformat_minor": 5
}
