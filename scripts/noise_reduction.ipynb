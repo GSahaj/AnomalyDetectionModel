{
 "cells": [
  {
   "cell_type": "code",
   "execution_count": null,
   "id": "86aab96f-d903-4ca7-a2ee-23f0063ce143",
   "metadata": {},
   "outputs": [],
   "source": [
    "import noisereduce as nr\n",
    "import librosa\n"
   ]
  },
  {
   "cell_type": "code",
   "execution_count": 3,
   "id": "0518e05e-07ac-456d-b68d-c6bf4954a1c0",
   "metadata": {},
   "outputs": [],
   "source": [
    "def reduce_noise(audio, sr=160000):\n",
    "    #Reduce background noise from the audio signal \n",
    "\n",
    "    #Apply noise reducion\n",
    "    clean_audio = nr.reduce_noise(y=audio, sr=sr)\n",
    "    return clean_audio"
   ]
  },
  {
   "cell_type": "code",
   "execution_count": null,
   "id": "728b5355-e61c-4b64-acb6-e3b243eeade5",
   "metadata": {},
   "outputs": [],
   "source": []
  }
 ],
 "metadata": {
  "kernelspec": {
   "display_name": "Python 3 (ipykernel)",
   "language": "python",
   "name": "python3"
  },
  "language_info": {
   "codemirror_mode": {
    "name": "ipython",
    "version": 3
   },
   "file_extension": ".py",
   "mimetype": "text/x-python",
   "name": "python",
   "nbconvert_exporter": "python",
   "pygments_lexer": "ipython3",
   "version": "3.12.3"
  }
 },
 "nbformat": 4,
 "nbformat_minor": 5
}
