{
 "cells": [
  {
   "cell_type": "code",
   "execution_count": 1,
   "id": "a5b69d89-daad-4e4b-aafa-dd7c4526eafa",
   "metadata": {},
   "outputs": [
    {
     "name": "stdout",
     "output_type": "stream",
     "text": [
      "Requirement already satisfied: pydub in c:\\users\\sahaj\\anaconda3\\lib\\site-packages (0.25.1)\n"
     ]
    }
   ],
   "source": [
    "!pip install pydub\n"
   ]
  },
  {
   "cell_type": "code",
   "execution_count": null,
   "id": "5af672b7-db1a-4ec6-908f-41d5f440cc89",
   "metadata": {},
   "outputs": [],
   "source": [
    "from pydub import AudioSegment"
   ]
  },
  {
   "cell_type": "code",
   "execution_count": null,
   "id": "c8d83530-d119-4d3f-a76c-dc7d9db7f9c0",
   "metadata": {},
   "outputs": [],
   "source": [
    "def convert_audio(input_path, output_path):\n",
    "    #Converts audio files to .wav format using pydub\n",
    "\n",
    "    #Load the audio file(supports .mp3, .ogg, etc)\n",
    "    audio = AudioSegment.from_file(input_path)\n",
    "\n",
    "    #Export the audio as .wav\n",
    "    audio.export(output_path, format=\"wav\")"
   ]
  }
 ],
 "metadata": {
  "kernelspec": {
   "display_name": "Python 3 (ipykernel)",
   "language": "python",
   "name": "python3"
  },
  "language_info": {
   "codemirror_mode": {
    "name": "ipython",
    "version": 3
   },
   "file_extension": ".py",
   "mimetype": "text/x-python",
   "name": "python",
   "nbconvert_exporter": "python",
   "pygments_lexer": "ipython3",
   "version": "3.12.3"
  }
 },
 "nbformat": 4,
 "nbformat_minor": 5
}
