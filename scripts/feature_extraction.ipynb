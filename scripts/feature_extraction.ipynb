{
 "cells": [
  {
   "cell_type": "code",
   "execution_count": 1,
   "id": "607ebf7d-c453-46c8-b17a-2b66c7c9a256",
   "metadata": {},
   "outputs": [],
   "source": [
    "import librosa\n",
    "import numpy as np"
   ]
  },
  {
   "cell_type": "code",
   "execution_count": 3,
   "id": "1db1c28a-870d-4854-ba7a-48e46aa5f697",
   "metadata": {},
   "outputs": [],
   "source": [
    "def extract_features(audio, sr=16000):\n",
    "    #Extracts features from the audio, such as MFCCs, mean and std\n",
    "\n",
    "    #Extracts MFCCs (Mel-frequency Cepstral Coefficients)\n",
    "    mfccs = librosa.feature.mfcc(y=audio, sr=sr, n_mfcc=13)\n",
    "    \n",
    "    #Compute mean and std of MFCCS for each frame\n",
    "    mfccs_mean = np.mean(mfccs, axis=1)\n",
    "    mfccs_std = np.std(mfccs, acis=1)\n",
    "\n",
    "    #Combine features (mean and std)\n",
    "    features = np.concatenate([mfccs_mean, mfccs_std])\n",
    "    return features\n",
    "\n",
    "    "
   ]
  },
  {
   "cell_type": "code",
   "execution_count": null,
   "id": "eb416df4-cdd7-4dff-8b83-561d799b0d4a",
   "metadata": {},
   "outputs": [],
   "source": []
  }
 ],
 "metadata": {
  "kernelspec": {
   "display_name": "Python 3 (ipykernel)",
   "language": "python",
   "name": "python3"
  },
  "language_info": {
   "codemirror_mode": {
    "name": "ipython",
    "version": 3
   },
   "file_extension": ".py",
   "mimetype": "text/x-python",
   "name": "python",
   "nbconvert_exporter": "python",
   "pygments_lexer": "ipython3",
   "version": "3.12.3"
  }
 },
 "nbformat": 4,
 "nbformat_minor": 5
}
