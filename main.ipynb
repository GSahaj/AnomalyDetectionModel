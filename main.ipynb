{
 "cells": [
  {
   "cell_type": "code",
   "execution_count": null,
   "id": "a0a64f5d-78bb-4c72-aa79-f15df80d0a0e",
   "metadata": {},
   "outputs": [],
   "source": [
    "import os\n",
    "from glob import glob\n",
    "import numpy as np\n",
    "import pandas as pd\n",
    "import librosa\n",
    "\n",
    "from preprocessing import load_and_process_audio\n",
    "from feature_extraction import extract_features\n",
    "from visualize import plot_mfcc, plot_mel_spectrogram, plot_waveform, plot_spectrogram\n"
   ]
  },
  {
   "cell_type": "code",
   "execution_count": 5,
   "id": "1a26d7dd-a101-4cde-9211-5dd75b8d729e",
   "metadata": {},
   "outputs": [
    {
     "ename": "NameError",
     "evalue": "name 'glob' is not defined",
     "output_type": "error",
     "traceback": [
      "\u001b[1;31m---------------------------------------------------------------------------\u001b[0m",
      "\u001b[1;31mNameError\u001b[0m                                 Traceback (most recent call last)",
      "Cell \u001b[1;32mIn[5], line 2\u001b[0m\n\u001b[0;32m      1\u001b[0m \u001b[38;5;66;03m#Path to the datasets\u001b[39;00m\n\u001b[1;32m----> 2\u001b[0m normal_breathing_files \u001b[38;5;241m=\u001b[39m glob(\u001b[38;5;124m'\u001b[39m\u001b[38;5;124mdataset/normal_breathing/*wav\u001b[39m\u001b[38;5;124m'\u001b[39m) \u001b[38;5;66;03m#Input data files\u001b[39;00m\n\u001b[0;32m      3\u001b[0m abnormal_breathing_files \u001b[38;5;241m=\u001b[39m glob(\u001b[38;5;124m'\u001b[39m\u001b[38;5;124mdataset/abnormal_breathing/*wav\u001b[39m\u001b[38;5;124m'\u001b[39m) \u001b[38;5;66;03m#Input data files \u001b[39;00m\n\u001b[0;32m      5\u001b[0m \u001b[38;5;66;03m#Stores features\u001b[39;00m\n",
      "\u001b[1;31mNameError\u001b[0m: name 'glob' is not defined"
     ]
    }
   ],
   "source": [
    "\n",
    "#Path to the datasets\n",
    "normal_breathing_files = glob('dataset/normal_breathing/*wav') #Input data files\n",
    "abnormal_breathing_files = glob('dataset/abnormal_breathing/*wav') #Input data files \n",
    "\n",
    "#Stores features\n",
    "normal_feature = []\n",
    "abormal_feature = []\n",
    "\n",
    "for file in normal_breathing_files:\n",
    "    audio, sr = load_and_preprocess_audio(file)\n",
    "    features = extract_features(audio, sr)\n",
    "    normal_features.append(features)\n",
    "\n",
    "    #Visualize for Normal Breathing\n",
    "    plot_waveform(audio, sr)\n",
    "    plot_spectrogram(audio, sr)\n",
    "    plot_mfcc(audio, sr)\n",
    "    plot_mfcc_spectrogram(audio, sr)\n",
    "\n",
    "for file in abnormal_breathing_files:\n",
    "    audio, sr = load_and_preprocess_audio(file)\n",
    "    features = extract_features(audio, sr)\n",
    "    normal_features.append(features)\n",
    "\n",
    "    #Visualize for Abnormal breathing\n",
    "    plot_waveform(audio, sr)\n",
    "    plot_spectrogram(audio, sr)\n",
    "    plot_mfcc(audio, sr)\n",
    "    plot_mfcc_spectrogram(audio, sr)\n",
    "    \n",
    "#Combine features from both normal and abnormal data \n",
    "normal_features = np.array(normal_features)\n",
    "abnormal_feature = np.array(abnormal_features)\n",
    "\n",
    "x = np.concatenate([normal_features, abnormal_features], axis=0)\n",
    "y = np.concatenate([np.ones(len(normal_features)), np.zeros(len(abornmal_features))], axis=0)\n",
    "\n",
    "#Store the features and labels into a pandas Dataframe\n",
    "df = pd.Dataframe(x)\n",
    "df['label']  = y\n",
    "\n",
    "#Save the processed data as CSV for future use\n",
    "output_file = 'data_output/processed_data.csv'\n",
    "df.to_csv(output_file, index=False)\n",
    "\n",
    "#Print the first few rows of the processed data\n",
    "print(\"Processed data saved: \", output_file)\n",
    "print(df.head())\n",
    "\n"
   ]
  },
  {
   "cell_type": "code",
   "execution_count": 3,
   "id": "9921ea0e-7564-4d22-901d-d8043d6cdc29",
   "metadata": {},
   "outputs": [
    {
     "name": "stderr",
     "output_type": "stream",
     "text": [
      "ERROR: Could not find a version that satisfies the requirement glob (from versions: none)\n",
      "ERROR: No matching distribution found for glob\n"
     ]
    }
   ],
   "source": [
    "!pip install glob\n"
   ]
  },
  {
   "cell_type": "code",
   "execution_count": null,
   "id": "6cc95e98-5217-4fd5-a1b3-6821b4832a0c",
   "metadata": {},
   "outputs": [],
   "source": []
  }
 ],
 "metadata": {
  "kernelspec": {
   "display_name": "Python 3 (ipykernel)",
   "language": "python",
   "name": "python3"
  },
  "language_info": {
   "codemirror_mode": {
    "name": "ipython",
    "version": 3
   },
   "file_extension": ".py",
   "mimetype": "text/x-python",
   "name": "python",
   "nbconvert_exporter": "python",
   "pygments_lexer": "ipython3",
   "version": "3.12.3"
  }
 },
 "nbformat": 4,
 "nbformat_minor": 5
}
