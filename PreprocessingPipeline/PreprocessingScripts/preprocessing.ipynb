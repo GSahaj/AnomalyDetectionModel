{
 "cells": [
  {
   "cell_type": "code",
   "execution_count": null,
   "id": "5ed9771b-d0b5-4b46-b8e0-24d857884a54",
   "metadata": {},
   "outputs": [],
   "source": [
    "import librosa\n",
    "from convert_audio import convert_audio\n",
    "from noise_reduction import reduce_noise"
   ]
  },
  {
   "cell_type": "code",
   "execution_count": 8,
   "id": "8fe83eb8-fd4c-4aa4-aa23-c3845840e413",
   "metadata": {},
   "outputs": [],
   "source": [
    "def load_and_preprocess_audio(file_path, sr=16000):\n",
    "    #Load, converts (if necessary), reduces noise and preprocesses audio\n",
    "\n",
    "    #Convert to .wav if the file is not in .wav format\n",
    "    if not file_path.endswith(\".wav\"):\n",
    "        convert_audio(file_path, file_path.replace(\".mp3\", \".wav\"))\n",
    "\n",
    "    #Load the audio file \n",
    "    audio, sr = libroa.load(file_path, sr=sr)\n",
    "\n",
    "    #Apply noise reduction\n",
    "    audio = reduce_noise(audio, sr)\n",
    "\n",
    "    #Trim silence\n",
    "    audio, _ = librosa.effects.trim(audio)\n",
    "\n",
    "    return audio, sr"
   ]
  },
  {
   "cell_type": "code",
   "execution_count": null,
   "id": "b63c1d9e-2786-4b6b-8a78-9e69fc767003",
   "metadata": {},
   "outputs": [],
   "source": []
  }
 ],
 "metadata": {
  "kernelspec": {
   "display_name": "Python 3 (ipykernel)",
   "language": "python",
   "name": "python3"
  },
  "language_info": {
   "codemirror_mode": {
    "name": "ipython",
    "version": 3
   },
   "file_extension": ".py",
   "mimetype": "text/x-python",
   "name": "python",
   "nbconvert_exporter": "python",
   "pygments_lexer": "ipython3",
   "version": "3.12.3"
  }
 },
 "nbformat": 4,
 "nbformat_minor": 5
}
